{
 "cells": [
  {
   "cell_type": "markdown",
   "id": "64e31d70-0811-4d0c-a00a-8d36057affcd",
   "metadata": {},
   "source": [
    "### Note that I have manually split each chapters using some online pdf splitter, although it can be done by writing codes also, but I have faced some issues so I simply used the online pdf splitter"
   ]
  },
  {
   "cell_type": "markdown",
   "id": "b024e9d2-ec0c-4edc-abb6-904a578c762b",
   "metadata": {},
   "source": [
    "### Text Extraction using PyPDF2"
   ]
  },
  {
   "cell_type": "code",
   "execution_count": 1,
   "id": "d7ac521c-5ef5-493e-9363-fae169c1192d",
   "metadata": {},
   "outputs": [
    {
     "name": "stdout",
     "output_type": "stream",
     "text": [
      "[\"Indian LawForACommon Man 9\\nCHAPTER 1:\\nWhy Know theLaw\\nUnderstanding thebasics ofIndian lawisessential forevery common man, asit\\nempowers individuals toknow their rights andobligations, enabling them to\\ngetalong with thesociety.\\nThisbook aims tomake Indian lawsimple andclear foreveryone.\\nWewant people tounderstand how thelawworks anditsimportance.\\nAsyou progress through this book, you will gain insights into thevarious\\naspects ofIndian law, empowering you tomake informed decisions and\\nbecome aresponsible citizen.\\nSo,let's embark upon thisjourney toexplore and understand thebasics of\\nIndian lawtogether.\\nAsimple Lawguide forevery Indian Sree Krishna Seelam\", \"10 Indian LawForACommon Man\\nKnowing thelawhelps:\\n●Know your rights and duties: Byknowing thelaw,youunderstand your\\nrights and canprotect yourself. Youalso gettoknow what duties you\\nshould perform asacitizen.\\n●Make correct choices: Understanding thelawhelps youmake correct\\ndecisions inlife,likeinrelationships, jobs, making purchases andstarting\\nbusinesses.\\n●Solve problems: Ifyouknow thelaw,youcansolve conflicts.\\n●Stay safe from scams: Knowing therules canprotect you from being\\nscammed ortaken advantage of.\\n●Build trust inthelegal system: When youunderstand thelaw,yousee\\nhow thecourts andother legal bodies work tokeep things fair.\\n●Make you live inharmony: When everyone knows thelaw, people\\nrespect each other's rights andsolve problems fairly. This helps create a\\nmore peaceful society.\\nInshort, knowing thelawhelps people better their lives, protect their rights,\\nandperform their duties. Italso helps people become active andresponsible\\ncitizens and makes society more peaceful, letting democracy work well for\\neveryone.\"]\n"
     ]
    }
   ],
   "source": [
    "import PyPDF2\n",
    "import re\n",
    "\n",
    "# Path to the original PDF\n",
    "input_pdf_path = r\"C:\\Users\\sifta\\Desktop\\Indian Laws For Common People\\Chapter 1.pdf\"\n",
    "\n",
    "# Function to extract text from the PDF, clean it, replace newlines, and fix combined words\n",
    "def extract_clean_and_fix_text(input_pdf_path):\n",
    "    # Open the PDF file\n",
    "    with open(input_pdf_path, 'rb') as pdf_file:\n",
    "        # Initialize the PDF reader\n",
    "        reader = PyPDF2.PdfReader(pdf_file)\n",
    "        total_pages = len(reader.pages)\n",
    "        \n",
    "        # List to hold the cleaned text from each page\n",
    "        text_list = []\n",
    "\n",
    "        # Regex pattern to identify the header/footer (e.g., \"38 Indian LawForACommon Man\" or \"Indian LawForACommon Man 38\")\n",
    "        # pattern = re.compile(r'\\d+\\s*Indian LawForACommon Man|Indian LawForACommon Man\\s*\\d+')\n",
    "\n",
    "        # Loop through each page and extract text\n",
    "        for page_num in range(total_pages):\n",
    "            page = reader.pages[page_num]\n",
    "            text = page.extract_text()\n",
    "            \n",
    "            # Remove the header/footer from the text\n",
    "            # cleaned_text = re.sub(pattern, '', text)\n",
    "            \n",
    "            # Replace newline characters with a space\n",
    "            # cleaned_text = cleaned_text.replace('\\n', ' ')\n",
    "            \n",
    "            # Fix combined words by adding a space between a lowercase letter followed by an uppercase letter\n",
    "            # cleaned_text = re.sub(r'([a-z])([A-Z])', r'\\1 \\2', cleaned_text)\n",
    "            \n",
    "            # Append the cleaned and fixed text to the list\n",
    "            text_list.append(text.strip())\n",
    "\n",
    "    return text_list\n",
    "\n",
    "# Call the function to extract, clean, and fix the text\n",
    "cleaned_pdf_text_list = extract_clean_and_fix_text(input_pdf_path)\n",
    "\n",
    "# Example: Print the cleaned and fixed text from the first page\n",
    "print(cleaned_pdf_text_list)\n",
    "\n",
    "# The cleaned text is now stored in `cleaned_pdf_text_list` and can be used later\n"
   ]
  },
  {
   "cell_type": "code",
   "execution_count": 2,
   "id": "c3145aaa-45dc-45d5-8b4e-2e7539c69d6b",
   "metadata": {},
   "outputs": [
    {
     "name": "stdout",
     "output_type": "stream",
     "text": [
      "['38 Indian LawForACommon Man\\nCHAPTER 5:\\nTheJudicial System ofIndia\\nInthischapter, youwilllearn about:\\n1.Structure oftheJudiciary\\n2.Supreme Court\\n3.High Courts\\n4.District andSubordinate Courts\\n5.Judicial Independence\\n6.Public Interest Litigation\\n1.Structure oftheJudiciary\\nTheIndian judiciary isanindependent andintegrated system that plays avital\\nrole inupholding therule oflawand protecting thefundamental rights of\\ncitizens.\\nIthasthree levels: theSupreme Court, High Courts, andLower Courts. Itisthe\\njobofthejudiciary tounderstand and explain theconstitution whenever\\nneeded, resolve conflicts, and check that thegovernment isadhering tothe\\nconstitution.\\nThis three-tiered structure helps thejudicial system towork smoothly and\\noffers astrong way forpeople toenforce their rights andsettle disagreements.\\nThishierarchy allows forappeals incase ofunsatisfactory judgement.', 'Indian LawForACommon Man 39\\n2.Supreme Court\\nTheSupreme Court isestablished under Article 124oftheconstitution andis\\nthehighest court inIndia, alsoknown astheAPEX (Highest) Judicial body.\\nIthelps maintain therule oflawand protect thefundamental rights ofthe\\ncitizens. TheSupreme Court issituated inNew Delhi. IthasaChief Justice and\\nupto33other judges. The court hasthree main powers: original, appellate,\\nandadvisory.\\n1.Original Jurisdiction\\n2.Appellate Jurisdiction\\n3.Advisory Jurisdiction\\n1.Original Jurisdiction: The Supreme Court handles disputes between the\\ncentral government and states orbetween two ormore states. Additionally,\\ntheSupreme Court hasthepower toissue writs toenforce fundamental rights\\nunder Article 32oftheconstitution.\\n2.Appellate Jurisdiction: TheSupreme Court hears appeals against judgments\\nrendered bytheHigh Courts incivil, criminal, andconstitutional matters. There\\naredifferent categories forappeals: constitutional matters, civil matters, and\\ncriminal matters.\\na.Issues about theConstitution\\nb.Issues inCivil Cases\\nc.Issues inCriminal Cases\\na.Issues about theConstitution: When there areserious legal questions about\\nunderstanding theconstitution, those issues canbeappealed totheSupreme\\nCourt.\\nb.Issues inCivil Cases: IfaHigh Court confirms that acivil case includes an\\nimportant legal question orneeds clarification oftheconstitution, thecase can\\nbeappealed totheSupreme Court.\\nAsimple Lawguide forevery Indian Sree Krishna Seelam']\n"
     ]
    }
   ],
   "source": [
    "import PyPDF2\n",
    "import re\n",
    "\n",
    "# Path to the original PDF\n",
    "input_pdf_path = r\"C:\\Users\\sifta\\Desktop\\Indian Laws For Common People\\Chapter 5.pdf\"\n",
    "\n",
    "# Function to extract text from the PDF, clean it, replace newlines, and fix combined words\n",
    "def extract_clean_and_fix_text(input_pdf_path):\n",
    "    # Open the PDF file\n",
    "    with open(input_pdf_path, 'rb') as pdf_file:\n",
    "        # Initialize the PDF reader\n",
    "        reader = PyPDF2.PdfReader(pdf_file)\n",
    "        total_pages = len(reader.pages)\n",
    "        \n",
    "        # List to hold the cleaned text from each page\n",
    "        text_list = []\n",
    "\n",
    "        # Loop through each page and extract text\n",
    "        for page_num in range(total_pages):\n",
    "            page = reader.pages[page_num]\n",
    "            text = page.extract_text()\n",
    "            text_list.append(text.strip())\n",
    "\n",
    "    return text_list\n",
    "\n",
    "# Call the function to extract, clean, and fix the text\n",
    "cleaned_pdf_text_list = extract_clean_and_fix_text(input_pdf_path)\n",
    "\n",
    "# Example: Print the cleaned and fixed text from the first page\n",
    "print(cleaned_pdf_text_list[:2])\n",
    "\n",
    "# The cleaned text is now stored in `cleaned_pdf_text_list` and can be used later\n"
   ]
  },
  {
   "cell_type": "markdown",
   "id": "cfa6fe21-ab35-4e1d-a269-8beda2a9e118",
   "metadata": {},
   "source": [
    "### Removing the page number and name of book from each page"
   ]
  },
  {
   "cell_type": "code",
   "execution_count": 3,
   "id": "22cc2ad9-beba-430f-a4c2-284b47ebf7fb",
   "metadata": {},
   "outputs": [
    {
     "name": "stdout",
     "output_type": "stream",
     "text": [
      "[\"CHAPTER 1: Why Know the Law Understanding thebasics of Indian lawisessential forevery common man, asit empowers individuals toknow their rights andobligations, enabling them to getalong with thesociety. Thisbook aims tomake Indian lawsimple andclear foreveryone. Wewant people tounderstand how thelawworks anditsimportance. Asyou progress through this book, you will gain insights into thevarious aspects of Indian law, empowering you tomake informed decisions and become aresponsible citizen. So,let's embark upon thisjourney toexplore and understand thebasics of Indian lawtogether. Asimple Lawguide forevery Indian Sree Krishna Seelam\", \"Knowing thelawhelps: ●Know your rights and duties: Byknowing thelaw,youunderstand your rights and canprotect yourself. Youalso gettoknow what duties you should perform asacitizen. ●Make correct choices: Understanding thelawhelps youmake correct decisions inlife,likeinrelationships, jobs, making purchases andstarting businesses. ●Solve problems: Ifyouknow thelaw,youcansolve conflicts. ●Stay safe from scams: Knowing therules canprotect you from being scammed ortaken advantage of. ●Build trust inthelegal system: When youunderstand thelaw,yousee how thecourts andother legal bodies work tokeep things fair. ●Make you live inharmony: When everyone knows thelaw, people respect each other's rights andsolve problems fairly. This helps create a more peaceful society. Inshort, knowing thelawhelps people better their lives, protect their rights, andperform their duties. Italso helps people become active andresponsible citizens and makes society more peaceful, letting democracy work well for everyone.\"]\n"
     ]
    }
   ],
   "source": [
    "import PyPDF2\n",
    "import re\n",
    "\n",
    "# Path to the original PDF\n",
    "input_pdf_path = r\"C:\\Users\\sifta\\Desktop\\Indian Laws For Common People\\Chapter 1.pdf\"\n",
    "\n",
    "# Function to extract text from the PDF, clean it, replace newlines, and fix combined words\n",
    "def extract_clean_and_fix_text(input_pdf_path):\n",
    "    # Open the PDF file\n",
    "    with open(input_pdf_path, 'rb') as pdf_file:\n",
    "        # Initialize the PDF reader\n",
    "        reader = PyPDF2.PdfReader(pdf_file)\n",
    "        total_pages = len(reader.pages)\n",
    "        \n",
    "        # List to hold the cleaned text from each page\n",
    "        text_list = []\n",
    "\n",
    "        # Regex pattern to identify the header/footer (e.g., \"38 Indian LawForACommon Man\" or \"Indian LawForACommon Man 38\")\n",
    "        pattern = re.compile(r'\\d+\\s*Indian LawForACommon Man|Indian LawForACommon Man\\s*\\d+')\n",
    "\n",
    "        # Loop through each page and extract text\n",
    "        for page_num in range(total_pages):\n",
    "            page = reader.pages[page_num]\n",
    "            text = page.extract_text()\n",
    "            \n",
    "            # Remove the header/footer from the text\n",
    "            cleaned_text = re.sub(pattern, '', text)\n",
    "            \n",
    "            # Replace newline characters with a space\n",
    "            cleaned_text = cleaned_text.replace('\\n', ' ')\n",
    "            \n",
    "            # Fix combined words by adding a space between a lowercase letter followed by an uppercase letter\n",
    "            cleaned_text = re.sub(r'([a-z])([A-Z])', r'\\1 \\2', cleaned_text)\n",
    "            \n",
    "            # Append the cleaned and fixed text to the list\n",
    "            text_list.append(cleaned_text.strip())\n",
    "\n",
    "    return text_list\n",
    "\n",
    "# Call the function to extract, clean, and fix the text\n",
    "cleaned_pdf_text_list = extract_clean_and_fix_text(input_pdf_path)\n",
    "\n",
    "# Example: Print the cleaned and fixed text from the first page\n",
    "print(cleaned_pdf_text_list)\n",
    "\n",
    "# The cleaned text is now stored in `cleaned_pdf_text_list` and can be used later\n"
   ]
  },
  {
   "cell_type": "markdown",
   "id": "6d4c5fc5-8492-4c48-9eab-136109362600",
   "metadata": {},
   "source": [
    "#### There has been issues using PyPDF2 during extracting the text, as seen from the above text, multiple words are combined and become a single word"
   ]
  },
  {
   "cell_type": "markdown",
   "id": "8ce03763-9691-43c9-b56e-02900a71a8e5",
   "metadata": {},
   "source": [
    "#### To encounter this, I have used another text extractor called pdfminer"
   ]
  },
  {
   "cell_type": "markdown",
   "id": "203510ba-670c-4121-aa6c-27ce5e3d3f00",
   "metadata": {},
   "source": [
    "### Installing pdfminer"
   ]
  },
  {
   "cell_type": "code",
   "execution_count": 4,
   "id": "a3cd5e8c-923d-443e-bb9c-b37cea6f9c50",
   "metadata": {},
   "outputs": [
    {
     "name": "stdout",
     "output_type": "stream",
     "text": [
      "Requirement already satisfied: pdfminer.six in c:\\users\\sifta\\anaconda3\\lib\\site-packages (20240706)\n",
      "Requirement already satisfied: charset-normalizer>=2.0.0 in c:\\users\\sifta\\anaconda3\\lib\\site-packages (from pdfminer.six) (2.0.4)\n",
      "Requirement already satisfied: cryptography>=36.0.0 in c:\\users\\sifta\\anaconda3\\lib\\site-packages (from pdfminer.six) (42.0.2)\n",
      "Requirement already satisfied: cffi>=1.12 in c:\\users\\sifta\\anaconda3\\lib\\site-packages (from cryptography>=36.0.0->pdfminer.six) (1.16.0)\n",
      "Requirement already satisfied: pycparser in c:\\users\\sifta\\anaconda3\\lib\\site-packages (from cffi>=1.12->cryptography>=36.0.0->pdfminer.six) (2.21)\n",
      "Note: you may need to restart the kernel to use updated packages.\n"
     ]
    }
   ],
   "source": [
    "pip install pdfminer.six"
   ]
  },
  {
   "cell_type": "markdown",
   "id": "a4d02f76-9483-4267-aaea-6622c13f815e",
   "metadata": {},
   "source": [
    "### Removing Chapter's number, page number and name of the book"
   ]
  },
  {
   "cell_type": "code",
   "execution_count": 5,
   "id": "c0815b10-4218-4dde-a296-e4bd3380ba00",
   "metadata": {},
   "outputs": [
    {
     "name": "stdout",
     "output_type": "stream",
     "text": [
      "[\"Why Know the Law  Understanding the basics of Indian law is essential for every common man, as it empowers individuals to know their rights and obligations, enabling them to get along with the society.  This book aims to make Indian law simple and clear for everyone.  We want people to understand how the law works and its importance.  As you progress through this book, you will gain insights into the various aspects of Indian law, empowering you to make informed decisions and become a responsible citizen.  So, let's embark upon this journey to explore and understand the basics of Indian law together.  A simple Law guide for every Indian  Sree Krishna Seelam  \\x0c  Knowing the law helps:  ● Know your rights and duties: By knowing the law, you understand your rights and can protect yourself. You also get to know what duties you should perform as a citizen.  ● Make correct choices: Understanding the law helps you make correct decisions in life, like in relationships, jobs, making purchases and starting businesses.  ● Solve problems: If you know the law, you can solve conflicts.  ● Stay safe from scams: Knowing the rules can protect you from being  scammed or taken advantage of.  ● Build trust in the legal system: When you understand the law, you see  how the courts and other legal bodies work to keep things fair.  ● Make you live in harmony: When everyone knows the law, people respect each other's rights and solve problems fairly. This helps create a more peaceful society.  In short, knowing the law helps people better their lives, protect their rights, and perform their duties. It also helps people become active and responsible citizens and makes society more peaceful, letting democracy work well for everyone.\"]\n"
     ]
    }
   ],
   "source": [
    "from pdfminer.high_level import extract_text\n",
    "import re\n",
    "\n",
    "# Path to the original PDF\n",
    "input_pdf_path = r\"C:\\Users\\sifta\\Desktop\\Indian Laws For Common People\\Chapter 1.pdf\"\n",
    "\n",
    "# Function to extract text from the PDF, clean it, and replace newlines\n",
    "def extract_clean_and_replace_newlines(input_pdf_path):\n",
    "    text_list=[]\n",
    "    # Extract text from the PDF using pdfminer.six\n",
    "    text = extract_text(input_pdf_path)\n",
    "    \n",
    "    # Regex pattern to identify the header/footer (e.g., \"38 Indian LawForACommon Man\" or \"Indian LawForACommon Man 38\")\n",
    "    pattern = re.compile(r'\\d+\\s*Indian Law For A Common Man|Indian Law For A Common Man\\s*\\d+|CHAPTER \\d+:')\n",
    "\n",
    "    # Remove the header/footer from the text\n",
    "    cleaned_text = re.sub(pattern, '', text)\n",
    "\n",
    "    # Replace newline characters with a space\n",
    "    cleaned_text = cleaned_text.replace('\\n', ' ')\n",
    "\n",
    "    # Append the cleaned and fixed text to the list (since pdfminer gives the entire text at once)\n",
    "    text_list.append(cleaned_text.strip())\n",
    "    # Split the cleaned text into a list by paragraphs or other logical divisions\n",
    "    # text_list = cleaned_text.split('. ')  # Adjust the delimiter as needed\n",
    "\n",
    "    return text_list\n",
    "\n",
    "# Call the function to extract, clean, and replace newlines\n",
    "cleaned_pdf_text_list = extract_clean_and_replace_newlines(input_pdf_path)\n",
    "\n",
    "# Example: Print the cleaned text from a specific part (e.g., after splitting into sentences)\n",
    "print(cleaned_pdf_text_list)\n",
    "\n",
    "# The cleaned text is now stored in `cleaned_pdf_text_list` and can be used later\n"
   ]
  },
  {
   "cell_type": "markdown",
   "id": "3f2b7c31-b1d5-4383-9aa7-0212a699a4bf",
   "metadata": {},
   "source": [
    "### Extracting text of each chapter and saved it as a separate .txt file for each chapter"
   ]
  },
  {
   "cell_type": "code",
   "execution_count": 6,
   "id": "48d49166-23b0-4b2b-a3ce-98f5d667acd7",
   "metadata": {},
   "outputs": [
    {
     "name": "stdout",
     "output_type": "stream",
     "text": [
      "Processed Chapter 1 and saved to C:\\Users\\sifta\\Desktop\\Indian Laws For Common People\\PDF_Chapters_2_Texts\\chapter1.txt\n",
      "Processed Chapter 2 and saved to C:\\Users\\sifta\\Desktop\\Indian Laws For Common People\\PDF_Chapters_2_Texts\\chapter2.txt\n",
      "Processed Chapter 3 and saved to C:\\Users\\sifta\\Desktop\\Indian Laws For Common People\\PDF_Chapters_2_Texts\\chapter3.txt\n",
      "Processed Chapter 4 and saved to C:\\Users\\sifta\\Desktop\\Indian Laws For Common People\\PDF_Chapters_2_Texts\\chapter4.txt\n",
      "Processed Chapter 5 and saved to C:\\Users\\sifta\\Desktop\\Indian Laws For Common People\\PDF_Chapters_2_Texts\\chapter5.txt\n",
      "Processed Chapter 6 and saved to C:\\Users\\sifta\\Desktop\\Indian Laws For Common People\\PDF_Chapters_2_Texts\\chapter6.txt\n",
      "Processed Chapter 7 and saved to C:\\Users\\sifta\\Desktop\\Indian Laws For Common People\\PDF_Chapters_2_Texts\\chapter7.txt\n",
      "Processed Chapter 8 and saved to C:\\Users\\sifta\\Desktop\\Indian Laws For Common People\\PDF_Chapters_2_Texts\\chapter8.txt\n",
      "Processed Chapter 9 and saved to C:\\Users\\sifta\\Desktop\\Indian Laws For Common People\\PDF_Chapters_2_Texts\\chapter9.txt\n",
      "Processed Chapter 10 and saved to C:\\Users\\sifta\\Desktop\\Indian Laws For Common People\\PDF_Chapters_2_Texts\\chapter10.txt\n",
      "Processed Chapter 11 and saved to C:\\Users\\sifta\\Desktop\\Indian Laws For Common People\\PDF_Chapters_2_Texts\\chapter11.txt\n",
      "Processed Chapter 12 and saved to C:\\Users\\sifta\\Desktop\\Indian Laws For Common People\\PDF_Chapters_2_Texts\\chapter12.txt\n",
      "Processed Chapter 13 and saved to C:\\Users\\sifta\\Desktop\\Indian Laws For Common People\\PDF_Chapters_2_Texts\\chapter13.txt\n",
      "Processed Chapter 14 and saved to C:\\Users\\sifta\\Desktop\\Indian Laws For Common People\\PDF_Chapters_2_Texts\\chapter14.txt\n",
      "Processed Chapter 15 and saved to C:\\Users\\sifta\\Desktop\\Indian Laws For Common People\\PDF_Chapters_2_Texts\\chapter15.txt\n",
      "Processed Chapter 16 and saved to C:\\Users\\sifta\\Desktop\\Indian Laws For Common People\\PDF_Chapters_2_Texts\\chapter16.txt\n"
     ]
    }
   ],
   "source": [
    "from pdfminer.high_level import extract_text\n",
    "import re\n",
    "import os\n",
    "\n",
    "# Base path for the PDF files\n",
    "base_pdf_path = r\"C:\\Users\\sifta\\Desktop\\Indian Laws For Common People\"\n",
    "\n",
    "# Output directory for the cleaned text files\n",
    "output_dir = r\"C:\\Users\\sifta\\Desktop\\Indian Laws For Common People\\PDF_Chapters_2_Texts\"\n",
    "os.makedirs(output_dir, exist_ok=True)\n",
    "\n",
    "# Function to extract text from the PDF, clean it, and replace newlines\n",
    "def extract_clean_and_replace_newlines(input_pdf_path):\n",
    "    # Extract text from the PDF using pdfminer.six\n",
    "    text = extract_text(input_pdf_path)\n",
    "    \n",
    "    # Regex pattern to identify the header/footer (e.g., \"38 Indian Law For A Common Man\" or \"Indian Law For A Common Man 38\" or \"CHAPTER X:\")\n",
    "    pattern = re.compile(r'\\d+\\s*Indian Law For A Common Man|Indian Law For A Common Man\\s*\\d+|CHAPTER \\d+:')\n",
    "    \n",
    "    # Remove the header/footer from the text\n",
    "    cleaned_text = re.sub(pattern, '', text)\n",
    "    \n",
    "    # Replace newline characters with a space\n",
    "    cleaned_text = cleaned_text.replace('\\n', ' ')\n",
    "    \n",
    "    # Return the cleaned text\n",
    "    return cleaned_text.strip()\n",
    "\n",
    "# Loop through chapters 1 to 16\n",
    "for chapter_num in range(1, 17):\n",
    "    # Construct the input PDF file path for each chapter\n",
    "    input_pdf_path = os.path.join(base_pdf_path, f\"Chapter {chapter_num}.pdf\")\n",
    "    \n",
    "    # Extract, clean, and process the text\n",
    "    cleaned_text = extract_clean_and_replace_newlines(input_pdf_path)\n",
    "    \n",
    "    # Construct the output text file path\n",
    "    output_text_path = os.path.join(output_dir, f\"chapter{chapter_num}.txt\")\n",
    "    \n",
    "    # Save the cleaned text to a file\n",
    "    with open(output_text_path, 'w', encoding='utf-8') as output_file:\n",
    "        output_file.write(cleaned_text)\n",
    "\n",
    "    print(f\"Processed Chapter {chapter_num} and saved to {output_text_path}\")\n"
   ]
  },
  {
   "cell_type": "markdown",
   "id": "6ed2f3d6-7b4e-449f-8049-bff1f0b5ae7d",
   "metadata": {},
   "source": [
    "### Extracting text of all chapters and combined it in a single .txt file"
   ]
  },
  {
   "cell_type": "code",
   "execution_count": 7,
   "id": "59d1105a-221f-4803-8c89-16a7afe7c4fd",
   "metadata": {},
   "outputs": [
    {
     "name": "stdout",
     "output_type": "stream",
     "text": [
      "Processed Chapter 1\n",
      "Processed Chapter 2\n",
      "Processed Chapter 3\n",
      "Processed Chapter 4\n",
      "Processed Chapter 5\n",
      "Processed Chapter 6\n",
      "Processed Chapter 7\n",
      "Processed Chapter 8\n",
      "Processed Chapter 9\n",
      "Processed Chapter 10\n",
      "Processed Chapter 11\n",
      "Processed Chapter 12\n",
      "Processed Chapter 13\n",
      "Processed Chapter 14\n",
      "Processed Chapter 15\n",
      "Processed Chapter 16\n",
      "All chapters combined and saved to C:\\Users\\sifta\\Desktop\\Indian Laws For Common People\\Combined_PDF2Text_Book.txt\n"
     ]
    }
   ],
   "source": [
    "from pdfminer.high_level import extract_text\n",
    "import re\n",
    "import os\n",
    "\n",
    "# Base path for the PDF files\n",
    "base_pdf_path = r\"C:\\Users\\sifta\\Desktop\\Indian Laws For Common People\"\n",
    "\n",
    "# Output file path for the combined text\n",
    "output_file_path = r\"C:\\Users\\sifta\\Desktop\\Indian Laws For Common People\\Combined_PDF2Text_Book.txt\"\n",
    "\n",
    "# Function to extract text from the PDF, clean it, and replace newlines\n",
    "def extract_clean_and_replace_newlines(input_pdf_path):\n",
    "    # Extract text from the PDF using pdfminer.six\n",
    "    text = extract_text(input_pdf_path)\n",
    "    \n",
    "    # Regex pattern to identify the header/footer (e.g., \"38 Indian Law For A Common Man\" or \"Indian Law For A Common Man 38\" or \"CHAPTER X:\")\n",
    "    pattern = re.compile(r'\\d+\\s*Indian Law For A Common Man|Indian Law For A Common Man\\s*\\d+|CHAPTER \\d+:')\n",
    "    \n",
    "    # Remove the header/footer from the text\n",
    "    cleaned_text = re.sub(pattern, '', text)\n",
    "    \n",
    "    # Replace newline characters with a space\n",
    "    cleaned_text = cleaned_text.replace('\\n', ' ')\n",
    "    \n",
    "    # Return the cleaned text\n",
    "    return cleaned_text.strip()\n",
    "\n",
    "# Create an empty string to hold the combined text\n",
    "combined_text = \"\"\n",
    "\n",
    "# Loop through chapters 1 to 16\n",
    "for chapter_num in range(1, 17):\n",
    "    # Construct the input PDF file path for each chapter\n",
    "    input_pdf_path = os.path.join(base_pdf_path, f\"Chapter {chapter_num}.pdf\")\n",
    "    \n",
    "    # Extract, clean, and process the text\n",
    "    cleaned_text = extract_clean_and_replace_newlines(input_pdf_path)\n",
    "    \n",
    "    # Append the cleaned text to the combined text\n",
    "    combined_text += f\"\\n\\n\"+ cleaned_text\n",
    "\n",
    "    print(f\"Processed Chapter {chapter_num}\")\n",
    "\n",
    "# Save the combined text to a single file\n",
    "with open(output_file_path, 'w', encoding='utf-8') as output_file:\n",
    "    output_file.write(combined_text)\n",
    "\n",
    "print(f\"All chapters combined and saved to {output_file_path}\")\n"
   ]
  },
  {
   "cell_type": "markdown",
   "id": "8bc36a86-cae7-4ca3-8e74-701994f1a2a2",
   "metadata": {},
   "source": [
    "#### Note: We have saved the .txt file both as a combined text of all chapters as well as in the form of separate chapters, we will see later which performs better and will use the files accordingly."
   ]
  },
  {
   "cell_type": "code",
   "execution_count": null,
   "id": "6a6ff7f7-e89d-4c7d-acc6-921e1e324a09",
   "metadata": {},
   "outputs": [],
   "source": []
  }
 ],
 "metadata": {
  "kernelspec": {
   "display_name": "Python 3 (ipykernel)",
   "language": "python",
   "name": "python3"
  },
  "language_info": {
   "codemirror_mode": {
    "name": "ipython",
    "version": 3
   },
   "file_extension": ".py",
   "mimetype": "text/x-python",
   "name": "python",
   "nbconvert_exporter": "python",
   "pygments_lexer": "ipython3",
   "version": "3.11.7"
  }
 },
 "nbformat": 4,
 "nbformat_minor": 5
}
